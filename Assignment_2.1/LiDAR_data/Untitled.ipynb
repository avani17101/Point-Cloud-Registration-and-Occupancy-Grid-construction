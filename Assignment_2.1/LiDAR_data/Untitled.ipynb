{
 "cells": [
  {
   "cell_type": "code",
   "execution_count": 1,
   "metadata": {},
   "outputs": [],
   "source": [
    "import open3d as o3d\n",
    "import copy\n",
    "import numpy as np\n",
    "from scipy.linalg import logm\n",
    "from scipy.spatial.transform import Rotation as R\n",
    "from scipy.optimize import fsolve\n",
    "import matplotlib.pyplot as plt\n",
    "import time"
   ]
  },
  {
   "cell_type": "code",
   "execution_count": 2,
   "metadata": {},
   "outputs": [],
   "source": [
    "def readData(file):\n",
    "\t\"\"\"\n",
    "\treads the ground truth file\n",
    "\treturns a 2D array with each\n",
    "\trow as GT pose(arranged row major form)\n",
    "\tarray size should be 1101*12\n",
    "\t\"\"\"\n",
    "\tdata = []\n",
    "\tfor i in range(77):\n",
    "\t\tline = file.readline()\n",
    "\t\tline = line.split()\n",
    "\t\tarr = np.array(line)\n",
    "\t\tarr = arr.reshape(3, 4)\n",
    "\t\tdata.append(arr)\n",
    "\treturn data"
   ]
  },
  {
   "cell_type": "code",
   "execution_count": 3,
   "metadata": {},
   "outputs": [],
   "source": [
    "def readPointCloud(filename):\n",
    "\t\"\"\"\n",
    "\treads bin file and returns\n",
    "\tas m*4 np array\n",
    "\tall points are in meters\n",
    "\tyou can filter out points beyond(in x y plane)\n",
    "\t50m for ease of computation\n",
    "\tand above or below 10m\n",
    "\t\"\"\"\n",
    "\tpcl = np.fromfile(filename, dtype=np.float32,count=-1)\n",
    "\tpcl = pcl.reshape([-1,4])\n",
    "\treturn pcl"
   ]
  },
  {
   "cell_type": "code",
   "execution_count": 4,
   "metadata": {},
   "outputs": [],
   "source": [
    "def convertToWorldFrame(i, points):\n",
    "    camToLiDAR = np.array([[0, 0, 1],[-1, 0, 0],[0, -1, 0]])\n",
    "    for num, p in enumerate(points):\n",
    "        #()transforms[i - 10].astype('float32')\n",
    "        #()p.astype('float32')\n",
    "        #()print(type(transforms[i - 10]))\n",
    "        #()print(transforms[i - 10].shape)\n",
    "        #()print(transforms[i - 10])\n",
    "        #()print(type(p))\n",
    "        #()print(p.shape)\n",
    "        #from right to left, point from lidar is acted upon by the world pose whcih is then multiplied by the transform to get into the lidars frame\n",
    "        #()print(p)\n",
    "        #pointsInWorldFrame.append(np.matmul(float(transforms[i - 10]), float(p)))\n",
    "        #()transforms[i - 10] = np.matmul(camToLiDAR, transforms[i - 10])\n",
    "        #()exit(0)\n",
    "        if num%5 == 0:\n",
    "            pointsInWorldFrame.append(np.matmul(camToLiDAR,np.matmul(transforms[i - 10].astype('float32'), p.astype('float32'))))\n",
    "    #()pointsInWorldFrame = np.array(pointsInWorldFrame)\n",
    "    #()print(pointsInWorldFrame.shape)\n",
    "    #()return pointsInWorldFrame\n",
    "\n"
   ]
  },
  {
   "cell_type": "code",
   "execution_count": 5,
   "metadata": {},
   "outputs": [
    {
     "name": "stdout",
     "output_type": "stream",
     "text": [
      "(612380, 3)\n"
     ]
    },
    {
     "ename": "KeyboardInterrupt",
     "evalue": "",
     "output_type": "error",
     "traceback": [
      "\u001b[0;31m---------------------------------------------------------------------------\u001b[0m",
      "\u001b[0;31mKeyboardInterrupt\u001b[0m                         Traceback (most recent call last)",
      "\u001b[0;32m<ipython-input-5-23b565de47f0>\u001b[0m in \u001b[0;36m<module>\u001b[0;34m\u001b[0m\n\u001b[1;32m     23\u001b[0m         \u001b[0mpcd\u001b[0m \u001b[0;34m=\u001b[0m \u001b[0mo3d\u001b[0m\u001b[0;34m.\u001b[0m\u001b[0mgeometry\u001b[0m\u001b[0;34m.\u001b[0m\u001b[0mPointCloud\u001b[0m\u001b[0;34m(\u001b[0m\u001b[0;34m)\u001b[0m\u001b[0;34m\u001b[0m\u001b[0;34m\u001b[0m\u001b[0m\n\u001b[1;32m     24\u001b[0m         \u001b[0mpcd\u001b[0m\u001b[0;34m.\u001b[0m\u001b[0mpoints\u001b[0m \u001b[0;34m=\u001b[0m \u001b[0mo3d\u001b[0m\u001b[0;34m.\u001b[0m\u001b[0mutility\u001b[0m\u001b[0;34m.\u001b[0m\u001b[0mVector3dVector\u001b[0m\u001b[0;34m(\u001b[0m\u001b[0mpointsInWorldFrame\u001b[0m\u001b[0;34m)\u001b[0m\u001b[0;34m\u001b[0m\u001b[0;34m\u001b[0m\u001b[0m\n\u001b[0;32m---> 25\u001b[0;31m         \u001b[0mo3d\u001b[0m\u001b[0;34m.\u001b[0m\u001b[0mvisualization\u001b[0m\u001b[0;34m.\u001b[0m\u001b[0mdraw_geometries\u001b[0m\u001b[0;34m(\u001b[0m\u001b[0;34m[\u001b[0m\u001b[0mpcd\u001b[0m\u001b[0;34m]\u001b[0m\u001b[0;34m)\u001b[0m\u001b[0;34m\u001b[0m\u001b[0;34m\u001b[0m\u001b[0m\n\u001b[0m\u001b[1;32m     26\u001b[0m         \u001b[0mo3d\u001b[0m\u001b[0;34m.\u001b[0m\u001b[0mio\u001b[0m\u001b[0;34m.\u001b[0m\u001b[0mwrite_point_cloud\u001b[0m\u001b[0;34m(\u001b[0m\u001b[0;34m\"./pcd.ply\"\u001b[0m\u001b[0;34m,\u001b[0m\u001b[0mpcd\u001b[0m\u001b[0;34m)\u001b[0m\u001b[0;34m\u001b[0m\u001b[0;34m\u001b[0m\u001b[0m\n",
      "\u001b[0;31mKeyboardInterrupt\u001b[0m: "
     ]
    }
   ],
   "source": [
    "#()\n",
    "\n",
    "if __name__ == \"__main__\":\n",
    "\tfinalPointCloud=[]\n",
    "\tpointsInWorldFrame=[]\n",
    "\ttxtfile=open(\"01.txt\",\"r\")\n",
    "\ttransforms = readData(txtfile)\n",
    "\ttxtfile.close()\n",
    "\tfor i in range(10,35):\n",
    "\t\tloc = \"./01/0000\" + str(i) + \".bin\"\n",
    "\t\toutput = readPointCloud(loc)\n",
    "        #()finalPointCloud.append(convertToWorldFrame(i, output))\n",
    "\t\tconvertToWorldFrame(i, output)\n",
    "\t\t#()print(type(output))\n",
    "        #()print(output.shape)\n",
    "        #()print(output)\n",
    "        #()for t in transforms:\n",
    "        #()\t\tprint(t)\n",
    "\t#()\tprint(type(pointsInWorldFrame))\n",
    "\tpointsInWorldFrame = np.array(pointsInWorldFrame)\n",
    "\tprint(pointsInWorldFrame.shape)\n",
    "\t#()\tprint(pointsInWorldFrame[0])\n",
    "\tpcd = o3d.geometry.PointCloud()\n",
    "\tpcd.points = o3d.utility.Vector3dVector(pointsInWorldFrame)\n",
    "\to3d.visualization.draw_geometries([pcd])\n",
    "\to3d.io.write_point_cloud(\"./pcd.ply\",pcd)"
   ]
  },
  {
   "cell_type": "code",
   "execution_count": null,
   "metadata": {},
   "outputs": [],
   "source": []
  }
 ],
 "metadata": {
  "kernelspec": {
   "display_name": "Python 3",
   "language": "python",
   "name": "python3"
  },
  "language_info": {
   "codemirror_mode": {
    "name": "ipython",
    "version": 3
   },
   "file_extension": ".py",
   "mimetype": "text/x-python",
   "name": "python",
   "nbconvert_exporter": "python",
   "pygments_lexer": "ipython3",
   "version": "3.7.7"
  }
 },
 "nbformat": 4,
 "nbformat_minor": 4
}
