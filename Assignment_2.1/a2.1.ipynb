{
 "cells": [
  {
   "cell_type": "code",
   "execution_count": 1,
   "metadata": {},
   "outputs": [],
   "source": [
    "import open3d as o3d\n",
    "import copy\n",
    "import numpy as np\n",
    "from scipy.linalg import logm\n",
    "from scipy.spatial.transform import Rotation as R\n",
    "from scipy.optimize import fsolve\n",
    "import matplotlib.pyplot as plt\n",
    "import time"
   ]
  },
  {
   "cell_type": "code",
   "execution_count": 2,
   "metadata": {},
   "outputs": [],
   "source": [
    "def readData(file):\n",
    "\t\"\"\"\n",
    "\treads the ground truth file\n",
    "\treturns a 2D array with each\n",
    "\trow as GT pose(arranged row major form)\n",
    "\tarray size should be 1101*12\n",
    "\t\"\"\"\n",
    "\tdata = []\n",
    "\tfor i in range(77):\n",
    "\t\tline = file.readline()\n",
    "\t\tline = line.split()\n",
    "\t\tarr = np.array(line)\n",
    "\t\tarr = arr.reshape(3, 4)\n",
    "\t\tdata.append(arr)\n",
    "\treturn data"
   ]
  },
  {
   "cell_type": "code",
   "execution_count": 3,
   "metadata": {},
   "outputs": [],
   "source": [
    "def readPointCloud(filename):\n",
    "\t\"\"\"\n",
    "\treads bin file and returns\n",
    "\tas m*4 np array\n",
    "\tall points are in meters\n",
    "\tyou can filter out points beyond(in x y plane)\n",
    "\t50m for ease of computation\n",
    "\tand above or below 10m\n",
    "\t\"\"\"\n",
    "\tpcl = np.fromfile(filename, dtype=np.float32,count=-1)\n",
    "\tpcl = pcl.reshape([-1,4])\n",
    "\treturn pcl"
   ]
  },
  {
   "cell_type": "code",
   "execution_count": 4,
   "metadata": {},
   "outputs": [],
   "source": [
    "finalPointCloud=[]\n",
    "pointsInWorldFrame=[]\n",
    "txtfile=open(\"01.txt\",\"r\")\n",
    "transforms = readData(txtfile)\n",
    "txtfile.close()   "
   ]
  },
  {
   "cell_type": "code",
   "execution_count": 5,
   "metadata": {},
   "outputs": [],
   "source": [
    "loc = \"./01/0000\" + str(10) + \".bin\"\n",
    "ar = readPointCloud(loc)\n",
    "arr = np.array(ar[:,:3])\n",
    "color = np.array(arr[:,:-1])\n",
    "pcd = o3d.geometry.PointCloud()\n",
    "pcd.points = o3d.utility.Vector3dVector(arr)\n",
    "tr = np.append(transforms[10],[[0,0,0,1]],axis=0)\n",
    "o3d.geometry.PointCloud.transform(pcd,tr)\n",
    "pcdf = pcd\n",
    "for i in range(11,87):\n",
    "    loc = \"./01/0000\" + str(i) + \".bin\"\n",
    "    ar = readPointCloud(loc)\n",
    "    arr = np.array(ar[:,:3])\n",
    "    color = np.array(arr[:,:-1])\n",
    "    pcd = o3d.geometry.PointCloud()\n",
    "    pcd.points = o3d.utility.Vector3dVector(arr)\n",
    "    R = pcd.get_rotation_matrix_from_zyx((0,-np.pi/2,np.pi/2))\n",
    "    pcd.rotate(R, (0,0,0))\n",
    "    tr = np.append(transforms[i-11],[[0,0,0,1]],axis=0)\n",
    "    o3d.geometry.PointCloud.transform(pcd,tr)\n",
    "    pcdf += pcd\n",
    "    "
   ]
  },
  {
   "cell_type": "code",
   "execution_count": 46,
   "metadata": {},
   "outputs": [],
   "source": [
    "o3d.visualization.draw_geometries([pcdf])\n",
    "o3d.io.write_point_cloud(\"./pcd.ply\",pcd)"
   ]
  },
  {
   "cell_type": "code",
   "execution_count": 39,
   "metadata": {},
   "outputs": [],
   "source": [
    "# def convertToWorldFrame(i, points):\n",
    "#     print(points.shape)\n",
    "#     camToLiDAR = np.array([[0, 0, 1],[-1, 0, 0],[0, -1, 0]])\n",
    "#     LiDarTocam = np.array([[0,0,1],[0,0,-1],[0,-1,0]])\n",
    "#     for num, p in enumerate(points):\n",
    "#         #()transforms[i - 10].astype('float32')\n",
    "#         #()p.astype('float32')\n",
    "#         #()print(type(transforms[i - 10]))\n",
    "#         #()print(transforms[i - 10].shape)\n",
    "#         #()print(transforms[i - 10])\n",
    "#         #()print(type(p))\n",
    "#         print(p[0:3].reshape((3,1)).shape,LiDarTocam.shape)\n",
    "#         py = p[0:3].reshape((3,1))\n",
    "#         #from right to left, point from lidar is acted upon by the world pose whcih is then multiplied by the transform to get into the lidars frame\n",
    "#         #()print(p)\n",
    "#         #pointsInWorldFrame.append(np.matmul(float(transforms[i - 10]), float(p)))\n",
    "#         #()transforms[i - 10] = np.matmul(camToLiDAR, transforms[i - 10])\n",
    "#         #()exit(0)\n",
    "        \n",
    "# #         pointsInWorldFrame.append(np.matmul(camToLiDAR,np.matmul(transforms[i - 10].astype('float32'), p.astype('float32'))))\n",
    "#         pointsInWorldFrame.append(np.matmul(np.matmul(py,LiDarTocam),transforms[i - 10].astype('float32')))\n",
    "#     return pointsInWorldFrame\n",
    "#     #()pointsInWorldFrame = np.array(pointsInWorldFrame)\n",
    "#     #()print(pointsInWorldFrame.shape)\n",
    "#     #()return pointsInWorldFrame\n",
    "\n"
   ]
  },
  {
   "cell_type": "code",
   "execution_count": 41,
   "metadata": {},
   "outputs": [
    {
     "ename": "TypeError",
     "evalue": "convertToWorldFrame() takes 2 positional arguments but 3 were given",
     "output_type": "error",
     "traceback": [
      "\u001b[0;31m---------------------------------------------------------------------------\u001b[0m",
      "\u001b[0;31mTypeError\u001b[0m                                 Traceback (most recent call last)",
      "\u001b[0;32m<ipython-input-41-b69e83763e5e>\u001b[0m in \u001b[0;36m<module>\u001b[0;34m\u001b[0m\n\u001b[1;32m     12\u001b[0m         \u001b[0moutput\u001b[0m \u001b[0;34m=\u001b[0m \u001b[0mreadPointCloud\u001b[0m\u001b[0;34m(\u001b[0m\u001b[0mloc\u001b[0m\u001b[0;34m)\u001b[0m\u001b[0;34m\u001b[0m\u001b[0;34m\u001b[0m\u001b[0m\n\u001b[1;32m     13\u001b[0m         \u001b[0;31m#()finalPointCloud.append(convertToWorldFrame(i, output))\u001b[0m\u001b[0;34m\u001b[0m\u001b[0;34m\u001b[0m\u001b[0;34m\u001b[0m\u001b[0m\n\u001b[0;32m---> 14\u001b[0;31m         \u001b[0mpf\u001b[0m \u001b[0;34m=\u001b[0m \u001b[0mconvertToWorldFrame\u001b[0m\u001b[0;34m(\u001b[0m\u001b[0mi\u001b[0m\u001b[0;34m,\u001b[0m \u001b[0moutput\u001b[0m\u001b[0;34m,\u001b[0m\u001b[0mpointsInWorldFrame\u001b[0m\u001b[0;34m)\u001b[0m\u001b[0;34m\u001b[0m\u001b[0;34m\u001b[0m\u001b[0m\n\u001b[0m\u001b[1;32m     15\u001b[0m         \u001b[0mpointsInWorldFrame\u001b[0m\u001b[0;34m.\u001b[0m\u001b[0mappend\u001b[0m\u001b[0;34m(\u001b[0m\u001b[0mpf\u001b[0m\u001b[0;34m)\u001b[0m\u001b[0;34m\u001b[0m\u001b[0;34m\u001b[0m\u001b[0m\n\u001b[1;32m     16\u001b[0m         \u001b[0;31m#()print(type(output))\u001b[0m\u001b[0;34m\u001b[0m\u001b[0;34m\u001b[0m\u001b[0;34m\u001b[0m\u001b[0m\n",
      "\u001b[0;31mTypeError\u001b[0m: convertToWorldFrame() takes 2 positional arguments but 3 were given"
     ]
    }
   ],
   "source": [
    "# #()\n",
    "\n",
    "# if __name__ == \"__main__\":\n",
    "#     finalPointCloud=[]\n",
    "#     pointsInWorldFrame=[]\n",
    "#     txtfile=open(\"01.txt\",\"r\")\n",
    "#     transforms = readData(txtfile)\n",
    "#     txtfile.close()\n",
    "#     for i in range(10,87):\n",
    "#         pf = []\n",
    "#         loc = \"./01/0000\" + str(i) + \".bin\"\n",
    "#         output = readPointCloud(loc)\n",
    "#         #()finalPointCloud.append(convertToWorldFrame(i, output))\n",
    "#         pf = convertToWorldFrame(i, output,pointsInWorldFrame)\n",
    "#         pointsInWorldFrame.append(pf)\n",
    "#         #()print(type(output))\n",
    "#         #()print(output.shape)\n",
    "#         #()print(output)\n",
    "#         #()for t in transforms:\n",
    "#         #()\t\tprint(t)\n",
    "#     #()\tprint(type(pointsInWorldFrame))\n",
    "#     pointsInWorldFrame = np.array(pointsInWorldFrame)\n",
    "#     print(pointsInWorldFrame.shape)\n",
    "#     #()\tprint(pointsInWorldFrame[0])\n",
    "#     pcd = o3d.geometry.PointCloud()\n",
    "#     pcd.points = o3d.utility.Vector3dVector(pointsInWorldFrame)\n",
    "#     o3d.visualization.draw_geometries([pcd])\n",
    "#     o3d.io.write_point_cloud(\"./pcd1.ply\",pcd)"
   ]
  },
  {
   "cell_type": "code",
   "execution_count": null,
   "metadata": {},
   "outputs": [],
   "source": []
  }
 ],
 "metadata": {
  "kernelspec": {
   "display_name": "Python 3",
   "language": "python",
   "name": "python3"
  },
  "language_info": {
   "codemirror_mode": {
    "name": "ipython",
    "version": 3
   },
   "file_extension": ".py",
   "mimetype": "text/x-python",
   "name": "python",
   "nbconvert_exporter": "python",
   "pygments_lexer": "ipython3",
   "version": "3.7.7"
  }
 },
 "nbformat": 4,
 "nbformat_minor": 4
}
