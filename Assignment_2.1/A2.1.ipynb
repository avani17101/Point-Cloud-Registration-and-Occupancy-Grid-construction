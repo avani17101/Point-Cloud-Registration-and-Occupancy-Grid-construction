{
 "cells": [
  {
   "cell_type": "code",
   "execution_count": 2,
   "metadata": {},
   "outputs": [],
   "source": [
    "import open3d as o3d\n",
    "import copy\n",
    "import numpy as np\n",
    "from scipy.linalg import logm\n",
    "from scipy.spatial.transform import Rotation as R\n",
    "from scipy.optimize import fsolve\n",
    "import matplotlib as mpl\n",
    "import matplotlib.pyplot as plt\n",
    "import time\n",
    "from tabulate import tabulate"
   ]
  },
  {
   "cell_type": "code",
   "execution_count": 3,
   "metadata": {},
   "outputs": [],
   "source": [
    "def readData(file):\n",
    "\t\"\"\"\n",
    "\treads the ground truth file\n",
    "\treturns a 2D array with each\n",
    "\trow as GT pose(arranged row major form)\n",
    "\tarray size should be 1101*12\n",
    "\t\"\"\"\n",
    "\tdata = []\n",
    "\tfor i in range(77):\n",
    "\t\tline = file.readline()\n",
    "\t\tline = line.split()\n",
    "\t\tarr = np.array(line)\n",
    "\t\tarr = arr.reshape(3, 4)\n",
    "\t\tdata.append(arr)\n",
    "\treturn data"
   ]
  },
  {
   "cell_type": "code",
   "execution_count": 4,
   "metadata": {},
   "outputs": [],
   "source": [
    "def readPointCloud(filename):\n",
    "\t\"\"\"\n",
    "\treads bin file and returns\n",
    "\tas m*4 np array\n",
    "\tall points are in meters\n",
    "\tyou can filter out points beyond(in x y plane)\n",
    "\t50m for ease of computation\n",
    "\tand above or below 10m\n",
    "\t\"\"\"\n",
    "\tpcl = np.fromfile(filename, dtype=np.float32,count=-1)\n",
    "\tpcl = pcl.reshape([-1,4])\n",
    "\treturn pcl"
   ]
  },
  {
   "cell_type": "code",
   "execution_count": 5,
   "metadata": {},
   "outputs": [],
   "source": [
    "finalPointCloud=[]\n",
    "pointsInWorldFrame=[]\n",
    "txtfile=open(\"01.txt\",\"r\")\n",
    "transforms = readData(txtfile)\n",
    "txtfile.close()   "
   ]
  },
  {
   "cell_type": "code",
   "execution_count": 6,
   "metadata": {},
   "outputs": [],
   "source": [
    "\n",
    "def reconstructMat(alpha,beta,gamma):\n",
    "   \n",
    "    Rz = np.array([[np.cos(alpha),-1*np.sin(alpha),0],\n",
    "                   [np.sin(alpha),np.cos(alpha),0],\n",
    "                   [0,0,1]])\n",
    "    Ry = np.array([[np.cos(beta),0,np.sin(beta)],\n",
    "                   [0,1,0],\n",
    "                   [-1*np.sin(beta),0,np.cos(beta)]])\n",
    "    Rx = np.array([[1,0,0],\n",
    "                   [0,np.cos(gamma),-1*np.sin(gamma)],\n",
    "                   [0,np.sin(gamma),np.cos(gamma)]])\n",
    "    R = np.matmul(np.matmul(Rz,Ry),Rx)\n",
    "    return R"
   ]
  },
  {
   "cell_type": "code",
   "execution_count": 7,
   "metadata": {},
   "outputs": [],
   "source": [
    "loc = \"./01/0000\" + str(10) + \".bin\"\n",
    "ar = readPointCloud(loc)\n",
    "arr = np.array(ar[:,:3])\n",
    "color = np.array(arr[:,:-1])\n",
    "pcd = o3d.geometry.PointCloud()\n",
    "pcd.points = o3d.utility.Vector3dVector(arr)\n",
    "tr = np.append(transforms[10],[[0,0,0,1]],axis=0)\n",
    "o3d.geometry.PointCloud.transform(pcd,tr)\n",
    "pcdf = pcd\n",
    "for i in range(11,87):\n",
    "    loc = \"./01/0000\" + str(i) + \".bin\"\n",
    "    ar = readPointCloud(loc)\n",
    "    arr = np.array(ar[:,:3])\n",
    "    color = np.array(arr[:,:-1])\n",
    "    R = reconstructMat(0,-np.pi/2,np.pi/2)\n",
    "    t = np.matmul(arr,R).astype(dtype = 'float')\n",
    "    tr = np.array(transforms[i-11]).astype(dtype = 'float')\n",
    "    ans = np.matmul(t,tr) \n",
    "    pcd = o3d.geometry.PointCloud()\n",
    "    pcd.points = o3d.utility.Vector3dVector(pointsInWorldFrame)\n",
    "    pcdf += pcd\n",
    "    "
   ]
  },
  {
   "cell_type": "code",
   "execution_count": 8,
   "metadata": {},
   "outputs": [
    {
     "data": {
      "text/plain": [
       "True"
      ]
     },
     "execution_count": 8,
     "metadata": {},
     "output_type": "execute_result"
    }
   ],
   "source": [
    "o3d.visualization.draw_geometries([pcdf])\n",
    "o3d.io.write_point_cloud(\"./pcd.ply\",pcdf)"
   ]
  }
 ],
 "metadata": {
  "kernelspec": {
   "display_name": "Python 3",
   "language": "python",
   "name": "python3"
  },
  "language_info": {
   "codemirror_mode": {
    "name": "ipython",
    "version": 3
   },
   "file_extension": ".py",
   "mimetype": "text/x-python",
   "name": "python",
   "nbconvert_exporter": "python",
   "pygments_lexer": "ipython3",
   "version": "3.7.7"
  }
 },
 "nbformat": 4,
 "nbformat_minor": 4
}
