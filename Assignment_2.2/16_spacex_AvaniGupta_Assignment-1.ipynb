{
 "cells": [
  {
   "cell_type": "markdown",
   "metadata": {},
   "source": [
    "# Assignment 1: Transformations\n",
    "\n",
    "\n",
    "TEAM-ID: 16 <br>\n",
    "TEAM-NAME: spacex  <br>\n",
    "YOUR-ID: 2019121004   <br>\n",
    "YOUR-NAME: Avani Gupta  <br> \n",
    "\n",
    "(Although you work in groups, both the students have to submit to Moodle, hence there's name field above)"
   ]
  },
  {
   "cell_type": "markdown",
   "metadata": {},
   "source": [
    "# Instructions\n",
    "- Please check Moodle for \"TEAM-ID\" and \"TEAM-NAME\" fields above. Some of your names have been edited because of redundancy/simplicity. Instructions for submitting the assignment through GitHub Classrooms/Moodle has been uploaded on Moodle. Any clarifications will be made there itself.\n",
    "- Code must be written in Python in Jupyter Notebooks. We highly recommend using anaconda distribution or at the minimum, virtual environments for this assignment. See `./misc/installation` for detailed step-by-step instructions about the installation setup.\n",
    "- Both the team members must submit the zip file.\n",
    "- For this assignment, you will be using Open3D extensively. Refer to [Open3D Documentation](http://www.open3d.org/docs/release/): you can use the in-built methods and **unless explicitly mentioned**, don't need to code from scratch for this assignment. Make sure your code is modular since you will be reusing them for future assignments.\n",
    "- Take a look at the entire assignment. The descriptive questions at the end might have a clue if you are stuck somewhere.\n",
    "- Answer the descriptive questions in your own words with context & clarity. Do not just copy-paste from some Wikipedia page. You will be evaluated accordingly.\n",
    "- Please call the visualization functions only when they are asked. They are asked explicitly at the end of every section.\n",
    "- You could split the Jupyter Notebook cells where `TODO` is written, but please try to avoid splitting/changing the structure of other cells."
   ]
  },
  {
   "cell_type": "code",
   "execution_count": 1,
   "metadata": {},
   "outputs": [],
   "source": [
    "import open3d as o3d\n",
    "import copy\n",
    "import numpy as np\n",
    "from scipy.linalg import logm\n",
    "from scipy.spatial.transform import Rotation as R\n",
    "from scipy.optimize import fsolve\n",
    "import matplotlib.pyplot as plt\n",
    "import time"
   ]
  },
  {
   "cell_type": "markdown",
   "metadata": {},
   "source": [
    "# 1. Getting started with Open3D\n",
    "## 1.1 Converting RGBD image into Point Cloud\n",
    "\n",
    "\n",
    "In your robotics journey, it is common to be given just the depth images along with camera parameters in a generic dataset and you'd want to build a 3D data representation out of it, for example, a point cloud. You will understand the math behind these concepts in detail during Vision classes, for now, you can use the in-built functions as a black box.\n",
    "- Below are the given RGB and D images from SUN RGB-D dataset ([S.Song, CVPR 2015](https://rgbd.cs.princeton.edu/)). \n",
    "![low-res-RGBD.resized.png](./misc/low-res-RGBD.png)\n",
    "\n",
    "- Read these two images `color.jpg` and `depth.png` given in current folder using Open3D. Convert it to a point cloud using the default camera parameters (`o3d.camera.PinholeCameraIntrinsicParameters.PrimeSenseDefault`).\n",
    "Then,\n",
    "- Create a \"world\" frame $A$ and combine this (just use $+$ operator) with the above point cloud and save it as `scene.pcd`. Put it aside for now.\n",
    "- Write a simple function `one_one` to visualize `scene.pcd`."
   ]
  },
  {
   "cell_type": "code",
   "execution_count": 2,
   "metadata": {},
   "outputs": [
    {
     "data": {
      "text/plain": [
       "True"
      ]
     },
     "execution_count": 2,
     "metadata": {},
     "output_type": "execute_result"
    }
   ],
   "source": [
    "##############################################################################\n",
    "# TODO: Do tasks described in 1.1                                            #\n",
    "##############################################################################\n",
    "# Replace \"pass\" statement with your code\n",
    "color_raw = o3d.io.read_image(\"color.jpg\")\n",
    "depth_raw = o3d.io.read_image(\"depth.png\")\n",
    "rgbd_image = o3d.geometry.RGBDImage.create_from_sun_format(color_raw, depth_raw)\n",
    "pcd = o3d.geometry.PointCloud.create_from_rgbd_image(\n",
    "    rgbd_image,\n",
    "    o3d.camera.PinholeCameraIntrinsic(\n",
    "        o3d.camera.PinholeCameraIntrinsicParameters.PrimeSenseDefault))\n",
    "pcd.transform([[1, 0, 0, 0], [0, -1, 0, 0], [0, 0, -1, 0], [0, 0, 0, 1]])\n",
    "world_frame = o3d.geometry.TriangleMesh.create_coordinate_frame( size=1, origin=[1, 1, 1])\n",
    "world_frame.paint_uniform_color([0, 0, 0])\n",
    "\n",
    "frame = o3d.geometry.TriangleMesh.sample_points_uniformly(world_frame, number_of_points=15000, use_triangle_normal=False, seed=- 1)\n",
    "o3d.io.write_point_cloud(\"scene.pcd\", pcd+frame)\n",
    "##############################################################################\n",
    "#                             END OF YOUR CODE                               #\n",
    "##############################################################################"
   ]
  },
  {
   "cell_type": "markdown",
   "metadata": {},
   "source": [
    "### Question for 1.1\n",
    "\n",
    "- In the next code cell, call the function `one_one` here showing `scene.pcd`."
   ]
  },
  {
   "cell_type": "code",
   "execution_count": 3,
   "metadata": {},
   "outputs": [],
   "source": [
    "#uncomment the following and add input parameters if any\n",
    "def one_one(file):\n",
    "    pcd = o3d.io.read_point_cloud(file)\n",
    "    o3d.visualization.draw_geometries([pcd])\n",
    "one_one(\"scene.pcd\")"
   ]
  },
  {
   "cell_type": "markdown",
   "metadata": {},
   "source": [
    "# 2. Rotations, Euler angles and Gimbal Lock\n",
    "\n",
    "## 2.1 Rotating an object\n",
    "\n",
    "The objective here is to roughly simulate an object moving on a ground.\n",
    "\n",
    "- Generate a cube at some point on the ground and create another frame $B$ at the center of this object. Combine these both as a single point cloud `cube.pcd`. (You can pick a point on the ground by using the `get_picked_points` method of the class `open3d.visualization.VisualizerWithEditing`.)\n",
    "- Now read both the point clouds `scene.pcd` and `cube.pcd` in a script. Whatever tasks you do below are on the object `cube.pcd` (along with the axes $B$) with `scene.pcd` in the background (static).\n",
    "- Given a sequence of **ZYX Euler** angles $[30^{\\circ}, 90^{\\circ}, 45^{\\circ}]$, generate the rotation. In our case, our object (with its respective axis) undergoes rotation with the background being fixed (with its respective axis).\n",
    "- Note: Throughout this assignment, we will be using the standard **ZYX** Euler angle convention.\n",
    "- Write a function `two_one` to show the above by **animation** (cube rotating along each axis one by one).\n",
    "    - *Hint: Use Open3D's non-blocking visualization and discretize the rotation to simulate the animation. For example, if you want to rotate by $30^{\\circ}$ around a particular axis, do in increments of $5^{\\circ}$ 6 times to make it look like an animation.*\n"
   ]
  },
  {
   "cell_type": "code",
   "execution_count": 4,
   "metadata": {},
   "outputs": [
    {
     "name": "stdout",
     "output_type": "stream",
     "text": [
      "\n",
      "Pick point using [shift + left click]\n",
      "Afther picking, press q for close the window\n",
      "[Open3D INFO] Picked point #170175 (-0.71, -0.89, -4) to add in queue.\n",
      "\n",
      "[170175]\n",
      "[-0.71131235 -0.89389521 -3.99399996]\n"
     ]
    }
   ],
   "source": [
    "##############################################################################\n",
    "# TODO: Do tasks described in 2.1                                            #\n",
    "##############################################################################\n",
    "# Replace \"pass\" statement with your code\n",
    "def pick_points(pcd):\n",
    "    print(\"\")\n",
    "    print(\"Pick point using [shift + left click]\")\n",
    "    print(\"Afther picking, press q for close the window\")\n",
    "    vis = o3d.visualization.VisualizerWithEditing()\n",
    "    vis.create_window()\n",
    "    vis.add_geometry(pcd)\n",
    "    vis.run()  \n",
    "    vis.destroy_window()\n",
    "    print(\"\")\n",
    "    return vis.get_picked_points()\n",
    "\n",
    "\n",
    "pcd = o3d.io.read_point_cloud(\"scene.pcd\")\n",
    "picked = pick_points(pcd)\n",
    "print(picked)\n",
    "\n",
    "picked_coord = pcd.points[picked[0]]\n",
    "print(picked_coord)\n",
    "mesh_box = o3d.geometry.TriangleMesh.create_box(width=1, height=1,depth=1)\n",
    "mesh_box.compute_vertex_normals()\n",
    "mesh_box.paint_uniform_color([0.9, 0.1, 0.1])\n",
    "box = o3d.geometry.TriangleMesh.sample_points_uniformly(mesh_box, number_of_points=100500, use_triangle_normal=False, seed=- 1)\n",
    "center = o3d.geometry.PointCloud.get_center(box)\n",
    "mesh_frame = o3d.geometry.TriangleMesh.create_coordinate_frame( size=1.2, origin=[-0.5, -0.5, -0.5])\n",
    "frame = o3d.geometry.TriangleMesh.sample_points_uniformly(mesh_frame, number_of_points=15000, use_triangle_normal=False, seed=- 1)\n",
    "pcd = frame+ box\n",
    "# o3d.visualization.draw_geometries([pcd])\n",
    "o3d.io.write_point_cloud(\"cube.pcd\", pcd)\n",
    "\n",
    "def two_one():\n",
    "    def draw(cube,scene,picked_coord):\n",
    "        vis = o3d.visualization.Visualizer()\n",
    "        vis.create_window()\n",
    "        vis.add_geometry(cube)\n",
    "        vis.add_geometry(scene)\n",
    "        cx = picked_coord[0] + 0.5\n",
    "        cy = picked_coord[1] + 0.5\n",
    "        cz = picked_coord[2] + 0.5\n",
    "        k = 200\n",
    "        for i in range(k):\n",
    "            time.sleep(0.0065)\n",
    "            R = cube.get_rotation_matrix_from_zyx(((np.pi/(6*k)),0,0))\n",
    "            cube.rotate(R, (cx,cy,cz))\n",
    "            vis.update_geometry(cube)\n",
    "            vis.poll_events()\n",
    "            vis.update_renderer()\n",
    "        Rz = cube.get_rotation_matrix_from_zyx((np.pi/6,0,0))\n",
    "        for i in range(k):\n",
    "            time.sleep(0.0065)\n",
    "            R = cube.get_rotation_matrix_from_zyx((0,np.pi/(2*k),0))\n",
    "            cube.rotate((Rz@R)@Rz.T,(cx,cy,cz))\n",
    "            vis.update_geometry(cube)\n",
    "            vis.poll_events()\n",
    "            vis.update_renderer()\n",
    "        Ry = cube.get_rotation_matrix_from_zyx((0,np.pi/2,0))\n",
    "        for i in range(k):\n",
    "            time.sleep(0.0065)\n",
    "            R = cube.get_rotation_matrix_from_zyx((0,0,np.pi/(4*k)))\n",
    "            cube.rotate((Ry@R)@Ry.T,(cx,cy,cz))\n",
    "            vis.update_geometry(cube)\n",
    "            vis.poll_events()\n",
    "            vis.update_renderer()\n",
    "        vis.destroy_window()\n",
    "        return True\n",
    "    cube = o3d.io.read_point_cloud(\"cube.pcd\")\n",
    "    cube.translate(picked_coord)                                          \n",
    "    scene = o3d.io.read_point_cloud(\"scene.pcd\")\n",
    "    draw(cube,scene,picked_coord)  \n",
    "    \n",
    "\n",
    "\n",
    "##############################################################################\n",
    "#                             END OF YOUR CODE                               #\n",
    "##############################################################################\n"
   ]
  },
  {
   "cell_type": "markdown",
   "metadata": {},
   "source": [
    "### Question for 2.1\n",
    "\n",
    "- In the next code cell, call the function `two_one` here showing the animation described in section 2.1."
   ]
  },
  {
   "cell_type": "code",
   "execution_count": 5,
   "metadata": {},
   "outputs": [],
   "source": [
    "#uncomment the following and add input parameters if any\n",
    "two_one()"
   ]
  },
  {
   "cell_type": "markdown",
   "metadata": {},
   "source": [
    "## 2.2 Euler angle & Gimbal lock\n",
    "\n",
    "Code the following yourself from scratch (Refer Craig book - Section: $Z-Y-X$ Euler angles - same conventions/notations followed).\n",
    "\n",
    "- Case 1: Given the rotation matrix $M_{given}$ below, extract Euler angles $\\alpha , \\beta ,\\gamma$. Convert it back to the rotation matrix $M_{recovered}$ from Euler angles.\n",
    "\n",
    "    $$M(\\alpha , \\beta ,\\gamma)=\\left[\\begin{array}{rrr}0.26200263 & -0.19674724 & 0.944799 \\\\0.21984631 & 0.96542533 & 0.14007684 \\\\\n",
    "    -0.93969262 & 0.17101007 & 0.29619813\\end{array}\\right] $$\n",
    "\n",
    "    After coding it from scratch, check your calculations using `scipy.spatial.transform.Rotation`. (Mandatory)\n",
    "\n",
    "- Case 2: Given the rotation matrix $N_{given}$, extract Euler angles, and convert back $N_{recovered}$.\n",
    "\n",
    "    $$N(\\alpha , \\beta ,\\gamma)=\\left[\\begin{array}{rrr}0 & -0.173648178 &  0.984807753 \\\\0 & 0.984807753 & 0.173648178 \\\\\n",
    "    -1 & 0 & 0\\end{array}\\right] $$\n",
    "\n",
    "    Again use `scipy` and check its output. If `scipy` is showing any warnings on any of the above cases, explain it in \"**Questions for 2.2**\" (last question). Write code in the next cell.\n",
    "    \n",
    "- (Optional) Case 3: Do the above two for quaternion using scipy functions, i.e. given the rotation matrix, extract quaternion and convert back."
   ]
  },
  {
   "cell_type": "code",
   "execution_count": 6,
   "metadata": {
    "deletable": false,
    "editable": false
   },
   "outputs": [],
   "source": [
    "##############################################################################\n",
    "# DON'T EDIT\n",
    "M_given =  np.array([[0.26200263, -0.19674724, 0.944799],\n",
    "                     [0.21984631, 0.96542533, 0.14007684],\n",
    "                     [-0.93969262, 0.17101007, 0.29619813]])\n",
    "\n",
    "N_given = np.array([[0,-0.173648178,0.984807753],\n",
    "                    [0, 0.984807753, 0.173648178],\n",
    "                    [-1, 0, 0]])"
   ]
  },
  {
   "cell_type": "code",
   "execution_count": 7,
   "metadata": {},
   "outputs": [
    {
     "name": "stdout",
     "output_type": "stream",
     "text": [
      "* Case 1 *\n",
      "\n",
      " Reconstructed angles from code written from scratch α,β,γ =  39.99999997427293   70.00000000765922   29.99999998709331\n",
      "\n",
      " Reconstructed Matrix from code written from scratch\n",
      "[[ 0.26200263 -0.19674724  0.944799  ]\n",
      " [ 0.21984631  0.96542534  0.14007684]\n",
      " [-0.93969262  0.17101007  0.29619813]]\n",
      "Reconstructed angles as per the Scipy's functions [α,β,γ] =  [40.00000028 70.00000021 30.00000046]\n",
      "\n",
      " Reconstructed Matrix from Scipy's functions \n",
      "[[ 0.99969845 -0.01198906  0.02143048]\n",
      " [ 0.01218163  0.99988639 -0.00887794]\n",
      " [-0.0213216   0.00913632  0.99973092]]\n",
      "\n",
      " * Case 2*\n",
      "\n",
      " Reconstructed angles from code written from scratch α,β,γ =  0.0   90.0   -10.000000018915026\n",
      "\n",
      " Reconstructed Matrix from code written from scratch\n",
      "[[ 6.12323400e-17 -1.73648178e-01  9.84807753e-01]\n",
      " [ 0.00000000e+00  9.84807753e-01  1.73648178e-01]\n",
      " [-1.00000000e+00 -1.06328843e-17  6.03020831e-17]]\n",
      "Reconstructed angles as per the Scipy's functions [α,β,γ] =  [10.00000002 90.          0.        ]\n",
      "\n",
      " Reconstructed Matrix from Scipy's functions \n",
      "[[ 9.99624217e-01 -8.35020051e-05  2.74120064e-02]\n",
      " [ 0.00000000e+00  9.99995360e-01  3.04616949e-03]\n",
      " [-2.74121336e-02 -3.04502479e-03  9.99619579e-01]]\n"
     ]
    },
    {
     "name": "stderr",
     "output_type": "stream",
     "text": [
      "/home/lenovo/.local/lib/python3.7/site-packages/scipy/spatial/transform/rotation.py:135: UserWarning: Gimbal lock detected. Setting third angle to zero since it is not possible to uniquely determine all angles.\n",
      "  warnings.warn(\"Gimbal lock detected. Setting third angle to zero since\"\n"
     ]
    }
   ],
   "source": [
    "# TODO: Do tasks described in 2.2                                            #\n",
    "##############################################################################\n",
    "# Replace \"pass\" statement with your code\n",
    "from scipy.spatial.transform import Rotation as R\n",
    "\n",
    "def getEuler(M_given):\n",
    "    alpha = 0\n",
    "    beta = 0\n",
    "    yamma = 0\n",
    "    if(M_given[2][0]!=1 and M_given[2][0]!=-1 ):\n",
    "        beta = np.arctan2(-1*M_given[2][0],np.sqrt(pow(M_given[0][0],2)+  pow(M_given[1][0],2))) \n",
    "        alpha = np.arctan2(M_given[1][0]/np.cos(beta) , M_given[0][0]/np.cos(beta))\n",
    "        gamma = np.arctan2(M_given[2][1]/np.cos(beta) , M_given[2][2]/np.cos(beta))\n",
    "    else:\n",
    "        if(M_given[2][0]==-1):\n",
    "            beta = np.pi/2\n",
    "            gamma = alpha + np.arctan2(M_given[0][1],M_given[0][2])\n",
    "        else:\n",
    "            beta = -np.pi/2\n",
    "            gamma = -alpha + np.arctan2(-M_given[0][1],-M_given[0][2])\n",
    "\n",
    "    return convert_deg(alpha,beta,gamma)\n",
    "\n",
    "def convert_deg(alpha,beta,gamma):\n",
    "    return alpha*180/np.pi,beta*180/np.pi,gamma*180/np.pi\n",
    "\n",
    "def convert_rad(alpha,beta,gamma):\n",
    "    return alpha*np.pi/180,beta*np.pi/180,gamma*np.pi/180\n",
    "\n",
    "def reconstructMat(alpha,beta,gamma):\n",
    "   \n",
    "    Rz = np.array([[np.cos(alpha),-1*np.sin(alpha),0],\n",
    "                   [np.sin(alpha),np.cos(alpha),0],\n",
    "                   [0,0,1]])\n",
    "    Ry = np.array([[np.cos(beta),0,np.sin(beta)],\n",
    "                   [0,1,0],\n",
    "                   [-1*np.sin(beta),0,np.cos(beta)]])\n",
    "    Rx = np.array([[1,0,0],\n",
    "                   [0,np.cos(gamma),-1*np.sin(gamma)],\n",
    "                   [0,np.sin(gamma),np.cos(gamma)]])\n",
    "    R = np.matmul(np.matmul(Rz,Ry),Rx)\n",
    "    return R\n",
    "\n",
    "def check(M_given):\n",
    "    alpha,beta,gamma = getEuler(M_given)\n",
    "\n",
    "    alpha,beta,gamma= convert_rad(alpha,beta,gamma)\n",
    "    mat = reconstructMat(alpha,beta,gamma)\n",
    "    alphad,betad,gammad = convert_deg(alpha,beta,gamma)\n",
    "    print(\"\\n Reconstructed angles from code written from scratch α,β,γ = \", alphad,\" \",betad,\" \",gammad)\n",
    "    print(\"\\n Reconstructed Matrix from code written from scratch\")\n",
    "    print(mat)\n",
    "    M = R.from_matrix(M_given)\n",
    "    # checking\n",
    "    r = M.from_euler('ZYX', [alpha,beta,gamma], degrees = True)\n",
    "    print(\"Reconstructed angles as per the Scipy's functions [α,β,γ] = \",M.as_euler('ZYX', degrees=True))\n",
    "    print(\"\\n Reconstructed Matrix from Scipy's functions \")\n",
    "    print(r.as_matrix())\n",
    "    return [alpha,beta,gamma],mat\n",
    "\n",
    "print(\"* Case 1 *\")\n",
    "\n",
    "my_array_case1,M_recovered = check(M_given)\n",
    "print(\"\\n * Case 2*\")\n",
    "\n",
    "my_array_case2,N_recovered = check(N_given)\n",
    "\n",
    "\n",
    "##############################################################################\n",
    "#                             END OF YOUR CODE                               #\n",
    "##############################################################################"
   ]
  },
  {
   "cell_type": "markdown",
   "metadata": {},
   "source": [
    "## Questions for 2.2\n",
    "- Have you used `np.arctan` or an any equivalent `atan` function above? Why or why not?   \n",
    "    * Ans: We used np.arctan2 fucntion since it returns array of angles in radians, in the range [-pi, pi] and we required the range to be -pi to pi in euler angles. On the other hand np.arctan would return in range [-pi/2, pi/2] which was not what we required."
   ]
  },
  {
   "cell_type": "markdown",
   "metadata": {},
   "source": [
    "### For Case 1 above,\n",
    "- What Euler angles  $\\alpha , \\beta ,\\gamma$ did you get? Replace `my_array_case1` with your array."
   ]
  },
  {
   "cell_type": "code",
   "execution_count": 8,
   "metadata": {},
   "outputs": [
    {
     "name": "stdout",
     "output_type": "stream",
     "text": [
      "My Euler angles for case 1 are[0.6981317003487097, 1.2217304765297092, 0.5235987753730347]\n"
     ]
    }
   ],
   "source": [
    "# Uncomment and replace my_array_case1 with your array.\n",
    "print(\"My Euler angles for case 1 are\" + str(my_array_case1))"
   ]
  },
  {
   "cell_type": "markdown",
   "metadata": {},
   "source": [
    "  - Were you able to recover back your rotation matrix when you converted it from Euler angles? Why/why not? Replace `M_given` and `M_recovered` with your matrices below and explain \"why/why not\" after this code snippet."
   ]
  },
  {
   "cell_type": "code",
   "execution_count": 9,
   "metadata": {},
   "outputs": [
    {
     "name": "stdout",
     "output_type": "stream",
     "text": [
      "For case 1, it is True I could recover the original matrix.\n"
     ]
    }
   ],
   "source": [
    "# Uncomment and Replace M_given and M_recovered with your matrices below.\n",
    "error = np.linalg.norm(logm(M_given @ M_recovered.T))\n",
    "print(\"For case 1, it is \" + str(error<0.0001) + \" I could recover the original matrix.\")"
   ]
  },
  {
   "cell_type": "markdown",
   "metadata": {},
   "source": [
    "- Why/why not? Based on your observations here, is there any problem with Euler angle representation for Case 1? If yes, what is it?\n",
    "\n",
    "    - Ans:    *No problem, could recover accurately by coding from scrath as well as scipy*"
   ]
  },
  {
   "cell_type": "markdown",
   "metadata": {},
   "source": [
    "### Repeat the above for Case 2."
   ]
  },
  {
   "cell_type": "code",
   "execution_count": 10,
   "metadata": {},
   "outputs": [
    {
     "name": "stdout",
     "output_type": "stream",
     "text": [
      "My Euler angles for case 2 are[0.0, 1.5707963267948966, -0.17453292552956243]\n",
      "For case 2, it is True I could recover the original matrix.\n"
     ]
    }
   ],
   "source": [
    "# Uncomment and Replace N_given and N_recovered with your matrices below.\n",
    "print(\"My Euler angles for case 2 are\" + str(my_array_case2))\n",
    "error = np.linalg.norm(logm(N_given @ N_recovered.T))\n",
    "print(\"For case 2, it is \" + str(error<0.0001) + \" I could recover the original matrix.\")"
   ]
  },
  {
   "cell_type": "markdown",
   "metadata": {},
   "source": [
    "* Why/why not? Based on your observations here, is there any problem with Euler angle representation for Case 2? If yes, what is it?\n",
    "\n",
    "    * Ans: Yes, did face a problem of Gimbal lock in case 2. Since  cosβ = 0 in case 2, i.e R31 element of rotation matrix is -1 which corresponds to β=pi/2. <br>\n",
    "    When we try to solve for values of alpha and gamma we get a division by 0 term and hence needed to explicityly handle the case of gimbal lock.  <br>\n",
    "    Gimbal lock occurs when cosβ = 0  i.e β = pi/2 or -pi/2(R31 = 1 or -1) <br>\n",
    "   Here a unique solution set of Euler Angles doesnt exist. <br>\n",
    "  Hence in such cases, we check if R31 is 1 or -1 and find beta accordingly.  Then make any one anlge among alpha or gamma to be zero and caclualte the other. We calculated using alpha = 0 as shown above in the code.\n",
    "  <br>\n",
    "    \n",
    "* Explain any more problems with Euler angle representation. Explain what you understand by Gimbal lock (concisely in your own words). You could revisit this question in the section 2.4.\n",
    "    * Ans: *When the angle β becomes + or - 90.0◦ Gimbal lock situtation arises. <br>It is situation when a degree of freedom is lost when an axis alignes with another (The two axis are parralel to each other)*"
   ]
  },
  {
   "cell_type": "markdown",
   "metadata": {},
   "source": [
    "- When you used `scipy.spatial.transform.Rotation` for the above 2 cases,\n",
    "    - Have you used `zyx` above in `r.as_euler('')` argument? Why or why not? Explain the difference between extrinsic and instrinsic rotations with equivalent technical names from Craig book? <br>\n",
    "        Ans: We used ZYX which is for intrisic euler angle rotations in scipy instead of using zyx which corresponds to extrinsic angles. We needed extrinsic rotations here. <br>\n",
    "        * Extrinsic means the original coordinate system remains motionless as the rotations go. <br>\n",
    "        * Intrinsic means the rotation is always based on the rotating coordinate system which is solidary with the moving object. <br>\n",
    "        Since it was asked that the original coordinate system, i.e scene should remain fixed and olny cube must rotate, we needed extrinsic rotations.\n",
    "\n",
    "    - Has `scipy` shown any warnings on any of the above cases? If yes, explain it.\n",
    "        * Ans: *Yes, we get a warning for Case2, where there was a Gimbal lock situation. This occurs when there is one less degree of freedom for rotation, which results in infinite possible solutions given the order of rotation of axes remains unchanged.*\n",
    "    - (Optional) For Case 3 above (quaternion) which you did using scipy, did you observe any problem with quaternion? Depending on your observations, which is better? Quaternion or Euler angles? And why?\n",
    "         * Ans: Quaternions have 4 gimbals hence they dont have  problems of gimbal lock. <br>\n",
    "         It is better to use quaternions instead of the Euler angles as 3 degrees of freedom are always ensured in the Quaternion and additionally it also prevents gimbal lock. <br>\n"
   ]
  },
  {
   "cell_type": "markdown",
   "metadata": {},
   "source": [
    "## 2.3 Rotation matrix as an Operator\n",
    "This question will help you in your understanding of [Rotator-transform (Vector-frame) equivalence](https://www.notion.so/saishubodh/Lecture-2-Transformations-11d69d8cef2d4cd195a98fa7d33224e1#f90ece4f5e374743bfed47e46a83ecfe).\n",
    "\n",
    "![image.png](./misc/xyz-frame.png)\n",
    "Consider the frame $XYZ$ in the above image. Say you have a vector $x_1=[0,\\sqrt{3},0]$. Now you want to rotate it such that you end up at $x_2=[1,1,1]$ through a sequence of Euler angle rotations. Your goal is to find out those $\\alpha, \\beta \\: \\& \\: \\gamma$ ($ZYX$). We will follow this order whenever we refer to it below.\n",
    "\n",
    "First, properly understand the so-called \"Rotator-transform equivalence\" to figure out what are the terms of rotation matrix. Then, put the math on paper and you will end up with a set of non-linear equations. Write the set of linear equations in LaTeX here:"
   ]
  },
  {
   "cell_type": "markdown",
   "metadata": {},
   "source": [
    "$$ \\textbf{The equations} $$\n",
    "$$\n",
    "\\textit{X}^{'} = \\textit{X} * ( \\cos{\\alpha} * \\cos{\\beta} ) +  \\textit(Y) * (\\cos{\\alpha} * \\sin{\\beta} * \\sin{\\gamma} - \\sin{\\alpha} * \\cos{\\gamma}) + \\textit{Z} * (\\cos{\\alpha} * \\sin{\\beta} * \\cos{\\gamma} + \\sin{\\alpha} * \\sin{\\gamma})\n",
    "$$\n",
    "$$\n",
    "\\textit{Y}^{'} = \\textit{X} * ( \\sin{\\alpha} * \\cos{\\beta} ) +  \\textit(Y) * (\\sin{\\alpha} * \\sin{\\beta} * \\sin{\\gamma} + \\cos{\\alpha} * \\cos{\\gamma}) + \\textit{Z} * (\\sin{\\alpha} * \\sin{\\beta} * \\cos{\\gamma} - \\cos{\\alpha} * \\sin{\\gamma})\n",
    "$$\n",
    "$$\n",
    "\\textit{Z}^{'} = \\textit{X} * ( -\\sin{\\beta} ) +  \\textit(Y) * (\\cos{\\beta} * \\sin{\\gamma}) + \\textit{Z} * (\\cos{\\beta} * \\cos{\\gamma} )\n",
    "$$\n",
    "\n",
    "On substituting the values of X,Y,Z to be $$(0,\\sqrt{3},0)$$ we get:\n",
    "\n",
    "$$ cos\\alpha sin\\beta sin\\gamma - sin\\alpha cos\\gamma = 1/\\sqrt3 $$ \n",
    "$$ sin\\alpha sin\\beta sin\\gamma + cos\\alpha cos\\gamma = 1/\\sqrt3 $$ \n",
    "$$ cos\\beta sin\\gamma = 1/\\sqrt3 $$ \n"
   ]
  },
  {
   "cell_type": "markdown",
   "metadata": {},
   "source": [
    "Solve these equations using `fsolve` from `scipy.optimize` as follows: (Come back and answer the following questions after coding it in the next block)\n",
    "- `case1`: First, solve it with an initialization of (0,0,0). Check if your answer is correct using `np.isclose`.\n",
    "    * What Euler angles did you get? Answer in $\\alpha, \\beta \\: \\& \\: \\gamma$ format:\n",
    "        * Ans: *$a_1, b_1, c_1$ = -41.062913795413124, 5765.546112808945, 35.455164399949105* \n",
    "- `case2`: Now, forget about the solver for a moment: Can you visualize and think of sequence of rotations one by one to reach the final position (which is different than previous set of rotations)? Now, validate your answer by giving (your answer $\\pm 5$) as initialization.\n",
    "    * What Euler angles did you get? Answer in $\\alpha, \\beta \\: \\& \\: \\gamma$ format:\n",
    "        * Ans: *$a_2, b_2, c_2$ = 315.0(or -45 degree), 0.0, 35.26438968275467.*"
   ]
  },
  {
   "cell_type": "code",
   "execution_count": 11,
   "metadata": {
    "deletable": false,
    "editable": false
   },
   "outputs": [],
   "source": [
    "##############################################################################\n",
    "# DON'T EDIT\n",
    "x_1 = np.array([0,np.sqrt(3),0])\n",
    "x_2 = np.array([1,1,1])"
   ]
  },
  {
   "cell_type": "code",
   "execution_count": 12,
   "metadata": {},
   "outputs": [
    {
     "name": "stdout",
     "output_type": "stream",
     "text": [
      "-41.062913795413124 5765.546112808945 35.455164399949105\n"
     ]
    }
   ],
   "source": [
    "##############################################################################\n",
    "# TODO: Do tasks described in 2.3                                            #\n",
    "##############################################################################\n",
    "# Replace \"pass\" statement with your code\n",
    "import numpy as np\n",
    "from scipy.optimize import fsolve\n",
    "\n",
    "def solve(arr):\n",
    "    x_1 = np.array([0,np.sqrt(3),0])\n",
    "    x_2 = np.array([1,1,1])\n",
    "    alpha,beta,gamma = arr[0],arr[1],arr[2]\n",
    "    Rz = np.array([[np.cos(alpha),-1*np.sin(alpha),0],\n",
    "                   [np.sin(alpha),np.cos(alpha),0],\n",
    "                   [0,0,1]])\n",
    "    Ry = np.array([[np.cos(beta),0,np.sin(beta)],\n",
    "                   [0,1,0],\n",
    "                   [-1*np.sin(beta),0,np.cos(beta)]])\n",
    "    Rx = np.array([[1,0,0],\n",
    "                   [0,np.cos(gamma),-1*np.sin(gamma)],\n",
    "                   [0,np.sin(gamma),np.cos(gamma)]])\n",
    "    R = np.dot(np.dot(Rz,Ry),Rx)\n",
    "\n",
    "    x_1 =  x_1.T.reshape(3,1)\n",
    "    x_2 = x_2.T.reshape(3,1)\n",
    "    \n",
    "    return (x_2 - np.dot(R,x_1)).T.reshape(3)\n",
    "sol = fsolve(solve,[0,0,0])\n",
    "a1,b1,c1 = sol[0],sol[1],sol[2]\n",
    "a1d,b1d,c1d = convert_deg(a1,b1,c1)\n",
    "print(a1d,b1d,c1d)\n",
    "\n",
    "##############################################################################\n",
    "#                             END OF YOUR CODE                               #\n",
    "##############################################################################"
   ]
  },
  {
   "cell_type": "markdown",
   "metadata": {},
   "source": [
    "# Analytical solution <br>\n",
    "Our initial vector is [0,root(3),0] which will lie on y axis on root(3) <br>\n",
    "We want to land at vector [1,1,1] by ZYX rotations. <br>\n",
    "We move as follows, <br>\n",
    "First rotate -45 deg around z axis, <br>\n",
    "Then rotate around x-axis untill we land at [1,1,1] <br>\n",
    "The angle of ratation will be <br>\n",
    "arcsin(x_coord_destination/np.sqrt(3)) = arcsin(1/np.sqrt(3)) <br>\n",
    "(From analysis on paper) <br>\n",
    "Thus, alpha = -45 degree, beta = 0, and\n",
    "gamma = arcsin(1/np.sqrt(3))"
   ]
  },
  {
   "cell_type": "code",
   "execution_count": 13,
   "metadata": {},
   "outputs": [],
   "source": [
    "ansa = 7*np.pi/4 \n",
    "ansb = 0\n",
    "ansc = np.arcsin(1/np.sqrt(3))"
   ]
  },
  {
   "cell_type": "markdown",
   "metadata": {},
   "source": [
    "Verify if answer is correct by intialising fsovle with answer +- 5"
   ]
  },
  {
   "cell_type": "code",
   "execution_count": 14,
   "metadata": {},
   "outputs": [],
   "source": [
    "low = int(5*np.pi/180) #converting to radians\n",
    "high = int(np.pi/180-5*np.pi/180)"
   ]
  },
  {
   "cell_type": "code",
   "execution_count": 15,
   "metadata": {},
   "outputs": [
    {
     "name": "stdout",
     "output_type": "stream",
     "text": [
      "initialized with ans  5.497787143782138 0 0.6154797086703875 \n",
      " angles got in degrees are 315.0 0.0 35.26438968275467\n",
      "x_2_obtained_case2 [1. 1. 1.]\n"
     ]
    }
   ],
   "source": [
    "for i in range(low,high+1):\n",
    "    sol = fsolve(solve,[ansa+i,ansb+i,ansc+i])\n",
    "    a2,b2,c2 = sol[0],sol[1],sol[2]\n",
    "    a2d,b2d,c2d = convert_deg(a2,b2,c2)\n",
    "    print(\"initialized with ans \",ansa+i,ansb+i,ansc+i,\"\\n angles got in degrees are\",a2d,b2d,c2d )\n",
    "    x_2_obtained_case2 = reconstructMat(a2,b2,c2) @ x_1.T \n",
    "    print(\"x_2_obtained_case2\",x_2_obtained_case2)"
   ]
  },
  {
   "cell_type": "code",
   "execution_count": 16,
   "metadata": {},
   "outputs": [],
   "source": [
    "# From Section 2.2, use the function which takes Euler angles and gives Rotation matrix as output.\n",
    "# Uncomment and replace `r_mat` with the name of the function. (Do NOT edit anything else)\n",
    "\n",
    "x_2_obtained_case1 = reconstructMat(a1,b1,c1) @ x_1.T #TODO: replace r_mat\n",
    "x_2_obtained_case2 = reconstructMat(a2,b2,c2) @ x_1.T #TODO: replace r_mat\n",
    "test = True #TODO: Set this as True"
   ]
  },
  {
   "cell_type": "code",
   "execution_count": 17,
   "metadata": {},
   "outputs": [
    {
     "name": "stdout",
     "output_type": "stream",
     "text": [
      "For case 1, it is True that I could end up at (1,1,1) after rotation.\n",
      "For case 2, it is True that I could end up at (1,1,1) after rotation.\n"
     ]
    }
   ],
   "source": [
    "# DON'T EDIT\n",
    "if test == True:\n",
    "    case1_test = np.isclose(x_2_obtained_case1,  np.array([1.0,1.0,1.0]))\n",
    "    case2_test = np.isclose(x_2_obtained_case2,  np.array([1.0,1.0,1.0]))\n",
    "    print(\"For case 1, it is \" + str(bool(case1_test[0] and case1_test[1] and case1_test[2])) + \n",
    "          \" that I could end up at (1,1,1) after rotation.\")\n",
    "    print(\"For case 2, it is \" + str(bool(case2_test[0] and case2_test[1] and case2_test[2])) + \n",
    "          \" that I could end up at (1,1,1) after rotation.\")"
   ]
  },
  {
   "cell_type": "markdown",
   "metadata": {},
   "source": [
    "## 2.4 Gimbal Lock visualization (Optional)\n",
    "\n",
    "A nice visualization video for gimbal lock is [this](https://www.youtube.com/watch?v=zc8b2Jo7mno). You are about to animate a similar visualization demonstrating gimbal lock 😃.\n",
    "\n",
    "![image.png](./misc/xyz-frame.png)\n",
    "\n",
    "- Write a function `two_four` for the visualization of gimbal lock. Follow the below steps to get the intuition going. Use Open3D for the following.\n",
    "    - Say our frame's initial position is as the above image. Now the final goal at the end of rotation is to get the $Y$ axis pointing in the direction of the vector $(x,y,z)$ that you currently see in the above image. This point is fixed in space and is NOT moving as we rotate our axis.\n",
    "    - For creating that point, you could use a small sphere using `open3d.geometry.create_mesh_sphere`. You already know how to create an axis by now.\n",
    "    - Following our $ZYX$ convention, first rotate your frame about $Z$ axis by an angle, say $-35^{\\circ}$. Then rotate about $Y$ axis by an angle ${\\beta}$ and then about $X$ by say $55^{\\circ}$.\n",
    "        - Are there any specific angle(s) $\\beta$ using which you will **never** reach our point $(x,y,z)$ ?\n",
    "            - Clue: We are specifically talking about gimbal lock here and notice the word \"never\".\n",
    "        - Under this (these) specific angle(s) of $\\beta$ & different combinations of $\\alpha$ and $\\gamma$, make an animation and clearly show why your $Y$ axis is unable to align in the direction of that vector $(x,y,z)$ using the animation.\n",
    "\n",
    "            If you are unsure to simulate the animation, you could do it as follows:\n",
    "\n",
    "            - You could first fix some $\\alpha$, say $-35^{\\circ}$ & an above value of $\\beta$, you can now vary $\\gamma$ from $-180^{\\circ} \\text{ to }180^{\\circ}$ to simulate the animation.\n",
    "            - Now fix another $\\alpha$, say $45^{\\circ}$ and repeat the above process. So that's 2 specific values of $\\alpha$.\n",
    "            - Show this for all angles of $\\beta$ if there are more than 1.\n",
    "            - Therefore, when the code is run, there should be a minimum of (2 $\\times$ (number of values of $\\beta$)) animations. 2 for values of $\\alpha$, you could show it for even more if you wish to."
   ]
  },
  {
   "cell_type": "code",
   "execution_count": 18,
   "metadata": {},
   "outputs": [],
   "source": [
    "##############################################################################\n",
    "# TODO: Do tasks described in 2.4                                            #\n",
    "##############################################################################\n",
    "# Replace \"pass\" statement with your code\n",
    "pass\n",
    "##############################################################################\n",
    "#                             END OF YOUR CODE                               #\n",
    "##############################################################################"
   ]
  },
  {
   "cell_type": "markdown",
   "metadata": {},
   "source": [
    "> VOILA! You have just animated the famous Gimbal lock problem. If you are curious, read about the [Apollo 11](https://en.wikipedia.org/wiki/Gimbal_lock#On_Apollo_11) Gimbal lock incident.\n",
    "\n",
    "### Questions for 2.4 (Optional)\n",
    "\n",
    "- Mention the value(s) of $\\beta$ here: \n",
    "    * Ans: *your answer here.*\n",
    "- Now that you understand gimbal lock through visualization, explain it now in matrix form: For the above values of $\\beta$, what does the rotation matrix look like? Can you explain why gimbal lock occurs from the rotation matrix alone? Clue: Use sin/cos formulae. \n",
    "    * Ans: *your answer here.*\n",
    "- Call the function `two_four` for the visualization of gimbal lock written above. "
   ]
  },
  {
   "cell_type": "code",
   "execution_count": 19,
   "metadata": {},
   "outputs": [],
   "source": [
    "#uncomment the following and add input parameters if any\n",
    "#two_four()"
   ]
  }
 ],
 "metadata": {
  "celltoolbar": "Edit Metadata",
  "kernelspec": {
   "display_name": "Python 3",
   "language": "python",
   "name": "python3"
  },
  "language_info": {
   "codemirror_mode": {
    "name": "ipython",
    "version": 3
   },
   "file_extension": ".py",
   "mimetype": "text/x-python",
   "name": "python",
   "nbconvert_exporter": "python",
   "pygments_lexer": "ipython3",
   "version": "3.7.7"
  }
 },
 "nbformat": 4,
 "nbformat_minor": 4
}
