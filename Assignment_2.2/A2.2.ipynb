{
 "cells": [
  {
   "cell_type": "markdown",
   "metadata": {},
   "source": [
    "# Assignment 2.2: Occupancy Map\n",
    "\n",
    "\n",
    "TEAM-ID: 16 <br>\n",
    "TEAM-NAME: spacex  <br>\n",
    "YOUR-ID: 2019121004 , 2018102002  <br>\n",
    "YOUR-NAME: Avani Gupta, Sreeharsha Paruchuri  <br> "
   ]
  },
  {
   "cell_type": "code",
   "execution_count": 1,
   "metadata": {},
   "outputs": [],
   "source": [
    "import open3d as o3d\n",
    "import numpy as np\n",
    "import matplotlib as mpl\n",
    "import matplotlib.pyplot as plt\n",
    "import utils"
   ]
  },
  {
   "cell_type": "code",
   "execution_count": null,
   "metadata": {},
   "outputs": [],
   "source": [
    "def one_one(file):\n",
    "    pcd = o3d.io.read_point_cloud(file)\n",
    "    o3d.visualization.draw_geometries([pcd])\n",
    "    return pcd\n",
    "path = '../Assignment_2.1/'\n",
    "pcdf = one_one(path+\"pcd.ply\")"
   ]
  },
  {
   "cell_type": "code",
   "execution_count": null,
   "metadata": {},
   "outputs": [],
   "source": [
    "occlist = []\n",
    "transform = utils.readData(\"01.txt\")\n",
    "lidar_to_cam = np.array([[0, 0, 1], [-1, 0, 0], [0, -1, 0]]).T\n",
    "pcdf = o3d.geometry.PointCloud()\n",
    "for i in range(10,87):\n",
    "    tr = transform[i, :].reshape((3, 4))\n",
    "    pc = np.matmul(lidar_to_cam,utils.readPointCloud(\"01/%06d.bin\" % i)[:, :3].T).T\n",
    "    pad = np.array([[0, 0, 0, 1.0]])\n",
    "    tf = np.append(tr,pad, axis = 0) \n",
    "    ones = np.ones((pc.shape[0], 1))\n",
    "    pc = np.matmul(tf, np.append(pc, ones, axis = 1).T).T\n",
    "    pcreshape = pc[:, 3].reshape(-1, 1) \n",
    "    pc = pc[:, :3] / pcreshape\n",
    "    pcd = o3d.geometry.PointCloud() \n",
    "    pcd.points = o3d.utility.Vector3dVector(pc)\n",
    "    occMap = find_occMap(pcd)\n",
    "    occlist.append(occMap)\n",
    "    pcdf += pcd"
   ]
  },
  {
   "cell_type": "code",
   "execution_count": null,
   "metadata": {},
   "outputs": [],
   "source": [
    "def find_occMap(pcdf):\n",
    "    points = np.asarray(pcdf.points)\n",
    "    #o3d.visualization.draw_geometries([pcdf])\n",
    "    print(points.shape)\n",
    "    occMap = np.zeros((300, 300))\n",
    "    maxX = 0\n",
    "    maxY = 0\n",
    "    maxZ = 0\n",
    "    minX = 1000\n",
    "    minY = 1000\n",
    "    minZ = 1000\n",
    "    for p in points:\n",
    "        occMap[int(p[0]) + 100][int(p[2]) + 100] += 1\n",
    "        if maxX < p[0]:\n",
    "            maxX = p[0]\n",
    "        if maxY < p[1]:\n",
    "            maxY = p[1]\n",
    "        if maxZ < p[2]:\n",
    "            maxZ = p[2]\n",
    "        if minX > p[0]:\n",
    "            minX = p[0]\n",
    "        if minY > p[1]:\n",
    "            minY = p[1]\n",
    "        if minZ > p[2]:\n",
    "            minZ = p[2]\n",
    "    print(f\"min x {minX} max X {maxX} min y {minY} max y {maxY} minZ {minZ} and maxZ {maxZ}\")\n",
    "    return occMap\n",
    "\n",
    "occMap = find_occMap(pcdf)"
   ]
  },
  {
   "cell_type": "code",
   "execution_count": null,
   "metadata": {},
   "outputs": [],
   "source": [
    "\n",
    "for i in range(len(occlist)):\n",
    "    plot_occMap(\"occMap\"+str(i),occlist[i])\n",
    "    "
   ]
  },
  {
   "cell_type": "code",
   "execution_count": null,
   "metadata": {},
   "outputs": [],
   "source": [
    "def plot_occMap(name,occMap):\n",
    "    for i in range(200):\n",
    "        for j in range(200):\n",
    "            if occMap[i][j] > 0 :\n",
    "                occMap[i][j] = 1\n",
    "            else:\n",
    "                occMap[i][j] = 0\n",
    "\n",
    "    fig = plt.figure(figsize=(16,16))\n",
    "    cmap = mpl.colors.LinearSegmentedColormap.from_list('my_colormap',['black','white'],256)\n",
    "    bounds=[-1,0.5, 2]\n",
    "    norm = mpl.colors.BoundaryNorm(bounds, cmap.N)\n",
    "    # tell imshow about color map so that only set colors are used\n",
    "    img = plt.imshow(occMap,interpolation='nearest',cmap = cmap,norm=norm,origin='lower')\n",
    "    \n",
    "    # make a color bar\n",
    "    fig.colorbar(img,cmap=cmap,\n",
    "                    norm=norm,boundaries=bounds,ticks=[0,1])\n",
    "  \n",
    "    plt.savefig(name)\n",
    "    plt.axis(\"off\") \n",
    "    plt.show()\n",
    "    return occMap\n",
    "img =  plot_occMap(\"combinedOccMap\",occMap)\n",
    "\n",
    "# def save_occMap(img,name):\n",
    "#     plt.imsave(name,img,cmap = cmap,origin='lower')\n",
    "    \n",
    "# save_occMap(img,\"combinedMap\")"
   ]
  }
 ],
 "metadata": {
  "kernelspec": {
   "display_name": "Python 3",
   "language": "python",
   "name": "python3"
  },
  "language_info": {
   "codemirror_mode": {
    "name": "ipython",
    "version": 3
   },
   "file_extension": ".py",
   "mimetype": "text/x-python",
   "name": "python",
   "nbconvert_exporter": "python",
   "pygments_lexer": "ipython3",
   "version": "3.8.5"
  }
 },
 "nbformat": 4,
 "nbformat_minor": 2
}
