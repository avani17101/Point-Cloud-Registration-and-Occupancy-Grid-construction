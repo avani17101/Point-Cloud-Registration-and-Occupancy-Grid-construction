{
 "cells": [
  {
   "cell_type": "code",
   "execution_count": 1,
   "metadata": {},
   "outputs": [],
   "source": [
    "import open3d as o3d\n",
    "import copy\n",
    "import numpy as np\n",
    "from scipy.linalg import logm\n",
    "from scipy.spatial.transform import Rotation as R\n",
    "from scipy.optimize import fsolve\n",
    "import matplotlib as mpl\n",
    "import matplotlib.pyplot as plt\n",
    "import time\n",
    "from tabulate import tabulate"
   ]
  },
  {
   "cell_type": "code",
   "execution_count": 2,
   "metadata": {},
   "outputs": [],
   "source": [
    "def one_one(file):\n",
    "    pcd = o3d.io.read_point_cloud(file)\n",
    "    o3d.visualization.draw_geometries([pcd])\n",
    "    return pcd\n",
    "path = '../Assignment_2.1/'\n",
    "pcdf = one_one(path+\"pcd.ply\")"
   ]
  },
  {
   "cell_type": "code",
   "execution_count": 3,
   "metadata": {},
   "outputs": [
    {
     "name": "stdout",
     "output_type": "stream",
     "text": [
      "(122829, 3)\n",
      "min x -68.10630018257655 max X 74.29852870082378 min y -74.67544320017304 max y 74.02465032337722 minZ -22.855886816309194 and maxZ 45.742363547997286\n"
     ]
    },
    {
     "data": {
      "image/png": "[encoded data removed]",
      "text/plain": [
       "<Figure size 432x288 with 2 Axes>"
      ]
     },
     "metadata": {
      "needs_background": "light"
     },
     "output_type": "display_data"
    }
   ],
   "source": [
    "points = np.asarray(pcdf.points)\n",
    "o3d.visualization.draw_geometries([pcdf])\n",
    "print(points.shape)\n",
    "occMap = np.zeros((250, 250))\n",
    "maxX = 0\n",
    "maxY = 0\n",
    "maxZ = 0\n",
    "minX = 1000\n",
    "minY = 1000\n",
    "minZ = 1000\n",
    "for p in points:\n",
    "\toccMap[int(p[0]) + 77][int(p[1]) + 75] += 1\n",
    "\tif maxX < p[0]:\n",
    "\t\tmaxX = p[0]\n",
    "\tif maxY < p[1]:\n",
    "\t    maxY = p[1]\n",
    "\tif maxZ < p[2]:\n",
    "\t\tmaxZ = p[2]\n",
    "\tif minX > p[0]:\n",
    "\t    minX = p[0]\n",
    "\tif minY > p[1]:\n",
    "\t    minY = p[1]\n",
    "\tif minZ > p[2]:\n",
    "\t\tminZ = p[2]\n",
    "\n",
    "print(f\"min x {minX} max X {maxX} min y {minY} max y {maxY} minZ {minZ} and maxZ {maxZ}\")\n",
    "\n",
    "for i in range(250):\n",
    "\tfor j in range(250):\n",
    "\t\tif occMap[i][j] > 0:\n",
    "\t\t\toccMap[i][j] = 1\n",
    "\t\telse:\n",
    "\t\t\toccMap[i][j] = 0\n",
    "cmap = mpl.colors.LinearSegmentedColormap.from_list('my_colormap',['black','white'],256)\n",
    "bounds=[-1,0.5, 2]\n",
    "norm = mpl.colors.BoundaryNorm(bounds, cmap.N)\n",
    "# tell imshow about color map so that only set colors are used\n",
    "img = plt.imshow(occMap,interpolation='nearest',\n",
    "                    cmap = cmap,norm=norm,origin='lower')\n",
    "\n",
    "# make a color bar\n",
    "plt.colorbar(img,cmap=cmap,\n",
    "                norm=norm,boundaries=bounds,ticks=[0,1])\n",
    "plt.show()\n"
   ]
  }
 ],
 "metadata": {
  "kernelspec": {
   "display_name": "Python 3",
   "language": "python",
   "name": "python3"
  },
  "language_info": {
   "codemirror_mode": {
    "name": "ipython",
    "version": 3
   },
   "file_extension": ".py",
   "mimetype": "text/x-python",
   "name": "python",
   "nbconvert_exporter": "python",
   "pygments_lexer": "ipython3",
   "version": "3.7.7"
  }
 },
 "nbformat": 4,
 "nbformat_minor": 2
}
