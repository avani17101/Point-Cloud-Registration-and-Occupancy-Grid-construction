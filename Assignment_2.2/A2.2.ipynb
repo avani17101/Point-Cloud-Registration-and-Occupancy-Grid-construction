{
 "cells": [
  {
   "cell_type": "markdown",
   "metadata": {},
   "source": [
    "# Assignment 2.2: Occupancy Map\n",
    "\n",
    "\n",
    "TEAM-ID: 16 <br>\n",
    "TEAM-NAME: spacex  <br>\n",
    "YOUR-ID: 2019121004 , 2018102002  <br>\n",
    "YOUR-NAME: Avani Gupta, Sreeharsha Paruchuri  <br> "
   ]
  },
  {
   "cell_type": "code",
   "execution_count": 16,
   "metadata": {},
   "outputs": [],
   "source": [
    "import open3d as o3d\n",
    "import numpy as np\n",
    "import matplotlib as mpl\n",
    "import matplotlib.pyplot as plt\n",
    "#()"
   ]
  },
  {
   "cell_type": "code",
   "execution_count": 19,
   "metadata": {},
   "outputs": [],
   "source": [
    "def one_one(file):\n",
    "    pcd = o3d.io.read_point_cloud(file)\n",
    "    o3d.visualization.draw_geometries([pcd])\n",
    "    return pcd\n",
    "path = '../Assignment_2.1/'\n",
    "pcdf = one_one(path+\"pcd.ply\")"
   ]
  },
  {
   "cell_type": "code",
   "execution_count": 18,
   "metadata": {},
   "outputs": [
    {
     "name": "stdout",
     "output_type": "stream",
     "text": [
      "(4239, 3)\n",
      "min x -77.25965836009522 max X 84.54077056339088 min y -6.140419797061123 max y 7.137396319004097 minZ -67.3731480802381 and maxZ 90.25556998798255\n"
     ]
    },
    {
     "data": {
      "image/png": "[encoded data removed]",
      "text/plain": [
       "<Figure size 1152x1152 with 2 Axes>"
      ]
     },
     "metadata": {
      "needs_background": "light"
     },
     "output_type": "display_data"
    }
   ],
   "source": [
    "points = np.asarray(pcdf.points)\n",
    "#o3d.visualization.draw_geometries([pcdf])\n",
    "print(points.shape)\n",
    "occMap = np.zeros((300, 200))\n",
    "maxX = 0\n",
    "maxY = 0\n",
    "maxZ = 0\n",
    "minX = 1000\n",
    "minY = 1000\n",
    "minZ = 1000\n",
    "for p in points:\n",
    "\toccMap[int(p[0]) + 80][int(p[1]) + 20] += 1\n",
    "\tif maxX < p[0]:\n",
    "\t\tmaxX = p[0]\n",
    "\tif maxY < p[1]:\n",
    "\t    maxY = p[1]\n",
    "\tif maxZ < p[2]:\n",
    "\t\tmaxZ = p[2]\n",
    "\tif minX > p[0]:\n",
    "\t    minX = p[0]\n",
    "\tif minY > p[1]:\n",
    "\t    minY = p[1]\n",
    "\tif minZ > p[2]:\n",
    "\t\tminZ = p[2]\n",
    "\n",
    "print(f\"min x {minX} max X {maxX} min y {minY} max y {maxY} minZ {minZ} and maxZ {maxZ}\")\n",
    "\n",
    "for i in range(200):\n",
    "\tfor j in range(200):\n",
    "\t\tif occMap[i][j] > 0:\n",
    "\t\t\toccMap[i][j] = 1\n",
    "\t\telse:\n",
    "\t\t\toccMap[i][j] = 0\n",
    "            \n",
    "fig = plt.figure(figsize=(16,16))\n",
    "cmap = mpl.colors.LinearSegmentedColormap.from_list('my_colormap',['black','white'],256)\n",
    "bounds=[-1,0.5, 2]\n",
    "norm = mpl.colors.BoundaryNorm(bounds, cmap.N)\n",
    "# tell imshow about color map so that only set colors are used\n",
    "img = plt.imshow(occMap,interpolation='nearest',\n",
    "                    cmap = cmap,norm=norm,origin='lower')\n",
    "\n",
    "# make a color bar\n",
    "fig.colorbar(img,cmap=cmap,\n",
    "                norm=norm,boundaries=bounds,ticks=[0,1])\n",
    "plt.axis(\"off\") \n",
    "plt.show()\n"
   ]
  },
  {
   "cell_type": "code",
   "execution_count": null,
   "metadata": {},
   "outputs": [],
   "source": []
  }
 ],
 "metadata": {
  "kernelspec": {
   "display_name": "Python 3",
   "language": "python",
   "name": "python3"
  },
  "language_info": {
   "codemirror_mode": {
    "name": "ipython",
    "version": 3
   },
   "file_extension": ".py",
   "mimetype": "text/x-python",
   "name": "python",
   "nbconvert_exporter": "python",
   "pygments_lexer": "ipython3",
   "version": "3.8.5"
  }
 },
 "nbformat": 4,
 "nbformat_minor": 2
}
